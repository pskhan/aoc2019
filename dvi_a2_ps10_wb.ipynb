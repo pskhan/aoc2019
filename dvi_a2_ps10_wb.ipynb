{
  "cells": [
    {
      "cell_type": "markdown",
      "metadata": {
        "id": "view-in-github",
        "colab_type": "text"
      },
      "source": [
        "<a href=\"https://colab.research.google.com/github/pskhan/aoc2019/blob/master/dvi_a2_ps10_wb.ipynb\" target=\"_parent\"><img src=\"https://colab.research.google.com/assets/colab-badge.svg\" alt=\"Open In Colab\"/></a>"
      ]
    },
    {
      "cell_type": "markdown",
      "id": "649ab04d",
      "metadata": {
        "id": "649ab04d"
      },
      "source": [
        "<h1><center>Work Integrated Learning Programmes Division<br>\n",
        "M.Tech (Data Science and Engineering)<br> Data Visualization And Interpretation (DSECL ZG555))<br>\n",
        "Second Semester, 2021-22\n",
        "</center></h1>\n",
        "\n",
        "<h2><center>Assignment 2 – PS10 [Weightage 13%]</center></h2>"
      ]
    },
    {
      "cell_type": "markdown",
      "id": "7a12f7fb",
      "metadata": {
        "id": "7a12f7fb"
      },
      "source": [
        "<ol>\n",
        "  <li>Do not change the name of the data file that is shared with the problem statement.</li>\n",
        "  <li>If intermediate data files are created, retain in the present working directory and attach them during submission.</li>\n",
        "  <li>Retain the data file in the same directory as that of this workbook.</li>\n",
        "  <li>Retain the Visualizations that is produced in the file. Don't clear them away.</li>\n",
        "   <li><div>All the visuals should adhere to the visualization principles learnt in the Course and must be presentation ready. Most effective visuals would fetch maximum credits</div></li>    \n",
        "    <li><div>Submissions done via means other than CANVAS will strictly be NOT graded.</div></li>\n",
        "</ol>"
      ]
    },
    {
      "cell_type": "markdown",
      "id": "847a6cd9",
      "metadata": {
        "id": "847a6cd9"
      },
      "source": [
        "<h1>Objective</h1>\n",
        "<h4>The objective is to analyze cricket teams and players performance accross the seasons to identify the outstanding performers.</h4>"
      ]
    },
    {
      "cell_type": "markdown",
      "id": "20547c0c",
      "metadata": {
        "id": "20547c0c"
      },
      "source": [
        "Both input data files should be considered"
      ]
    },
    {
      "cell_type": "markdown",
      "id": "76542011",
      "metadata": {
        "id": "76542011"
      },
      "source": [
        "<style>\n",
        "table {\n",
        "  font-family: arial, sans-serif;\n",
        "  border-collapse: collapse;\n",
        "  width: 100%;\n",
        "}\n",
        "\n",
        "td, th {\n",
        "  border: 1px solid #dddddd;\n",
        "  text-align: left;\n",
        "  padding: 8px;\n",
        "}\n",
        "\n",
        "tr:nth-child(even) {\n",
        "  background-color: #dddddd;\n",
        "}\n",
        "</style>\n",
        "\n",
        "<h2>Group No: 222</h2>\n",
        "\n",
        "<table>\n",
        "  <tr>\n",
        "    <th>Full Name</th>\n",
        "    <th>BITS ID</th>\n",
        "  </tr>\n",
        "  <tr>\n",
        "    <td>PRAVEEN S</td>\n",
        "    <td>2021fc04765</td>\n",
        "  </tr>\n",
        "  <tr>\n",
        "    <td>SHARMA SONAL ASHOK NEERJA</td>\n",
        "    <td>2021fc04769</td>\n",
        "  </tr>\n",
        "  <tr>\n",
        "    <td>ABHIJEET KUMAR</td>\n",
        "    <td>2021fc04693</td>\n",
        "  </tr>\n",
        "</table>"
      ]
    },
    {
      "cell_type": "markdown",
      "id": "86b66f78",
      "metadata": {
        "id": "86b66f78"
      },
      "source": [
        "#  Data Preparation : 1 Mark"
      ]
    },
    {
      "cell_type": "markdown",
      "id": "a8451d42",
      "metadata": {
        "id": "a8451d42"
      },
      "source": [
        "Import the libraries needed"
      ]
    },
    {
      "cell_type": "code",
      "execution_count": 2,
      "id": "72fa0ec8",
      "metadata": {
        "id": "72fa0ec8",
        "colab": {
          "base_uri": "https://localhost:8080/"
        },
        "outputId": "3a5815bd-8fb2-4b61-9f9b-5a143aae2fcc"
      },
      "outputs": [
        {
          "output_type": "stream",
          "name": "stdout",
          "text": [
            "Drive already mounted at /content/drive; to attempt to forcibly remount, call drive.mount(\"/content/drive\", force_remount=True).\n"
          ]
        }
      ],
      "source": [
        "from google.colab import drive\n",
        "drive.mount('/content/drive')"
      ]
    },
    {
      "cell_type": "code",
      "source": [
        "import warnings\n",
        "warnings.filterwarnings('ignore')\n",
        "\n",
        "!pip install matplotlib --quiet\n",
        "\n",
        "import pandas as pd\n",
        "import matplotlib as mpl\n",
        "import matplotlib.pyplot as plt\n",
        "import numpy as np\n",
        "import seaborn as sns\n",
        "import scipy.stats as st\n",
        "import statsmodels.formula.api as smf\n",
        "import statsmodels.api as sm\n",
        "from patsy.builtins import * \n",
        "\n",
        "%matplotlib inline \n",
        "from tabulate import tabulate"
      ],
      "metadata": {
        "id": "dPiMG0vZP9Tv"
      },
      "id": "dPiMG0vZP9Tv",
      "execution_count": 3,
      "outputs": []
    },
    {
      "cell_type": "markdown",
      "id": "ad0e14d4",
      "metadata": {
        "id": "ad0e14d4"
      },
      "source": [
        "Load data and store in dataframe"
      ]
    },
    {
      "cell_type": "code",
      "execution_count": 4,
      "id": "jvd50eYo7y9I",
      "metadata": {
        "id": "jvd50eYo7y9I",
        "colab": {
          "base_uri": "https://localhost:8080/"
        },
        "outputId": "0065eea7-da43-4544-989f-114d2fc747f1"
      },
      "outputs": [
        {
          "output_type": "stream",
          "name": "stdout",
          "text": [
            "/content/drive/MyDrive/Colab Notebooks/Semester_2/DVI_Assignment_2\n"
          ]
        }
      ],
      "source": [
        "%cd '/content/drive/MyDrive/Colab Notebooks/Semester_2/DVI_Assignment_2'\n",
        "deliveries_df = pd.read_csv('dvi-a2-ps10-data1.csv')\n",
        "matches_df = pd.read_csv('dvi-a2-ps10-data2.csv')"
      ]
    },
    {
      "cell_type": "code",
      "execution_count": 5,
      "id": "55bebe27",
      "metadata": {
        "id": "55bebe27",
        "colab": {
          "base_uri": "https://localhost:8080/"
        },
        "outputId": "ebe8a135-2245-43bc-d8bd-d5ed02d30b30"
      },
      "outputs": [
        {
          "output_type": "stream",
          "name": "stdout",
          "text": [
            "First 10 records of Dataset # 1 - Deliveries\n",
            "+----+------------+----------+---------------------+-----------------------------+--------+--------+-----------+---------------+-------------+-----------------+-------------+------------+---------------+---------------+----------------+----------------+--------------+--------------+--------------------+------------------+-----------+\n",
            "|    |   match_id |   inning | batting_team        | bowling_team                |   over |   ball | batsman   | non_striker   | bowler      |   is_super_over |   wide_runs |   bye_runs |   legbye_runs |   noball_runs |   penalty_runs |   batsman_runs |   extra_runs |   total_runs |   player_dismissed |   dismissal_kind |   fielder |\n",
            "|----+------------+----------+---------------------+-----------------------------+--------+--------+-----------+---------------+-------------+-----------------+-------------+------------+---------------+---------------+----------------+----------------+--------------+--------------+--------------------+------------------+-----------|\n",
            "|  0 |          1 |        1 | Sunrisers Hyderabad | Royal Challengers Bangalore |      1 |      1 | DA Warner | S Dhawan      | TS Mills    |               0 |           0 |          0 |             0 |             0 |              0 |              0 |            0 |            0 |                nan |              nan |       nan |\n",
            "|  1 |          1 |        1 | Sunrisers Hyderabad | Royal Challengers Bangalore |      1 |      2 | DA Warner | S Dhawan      | TS Mills    |               0 |           0 |          0 |             0 |             0 |              0 |              0 |            0 |            0 |                nan |              nan |       nan |\n",
            "|  2 |          1 |        1 | Sunrisers Hyderabad | Royal Challengers Bangalore |      1 |      3 | DA Warner | S Dhawan      | TS Mills    |               0 |           0 |          0 |             0 |             0 |              0 |              4 |            0 |            4 |                nan |              nan |       nan |\n",
            "|  3 |          1 |        1 | Sunrisers Hyderabad | Royal Challengers Bangalore |      1 |      4 | DA Warner | S Dhawan      | TS Mills    |               0 |           0 |          0 |             0 |             0 |              0 |              0 |            0 |            0 |                nan |              nan |       nan |\n",
            "|  4 |          1 |        1 | Sunrisers Hyderabad | Royal Challengers Bangalore |      1 |      5 | DA Warner | S Dhawan      | TS Mills    |               0 |           2 |          0 |             0 |             0 |              0 |              0 |            2 |            2 |                nan |              nan |       nan |\n",
            "|  5 |          1 |        1 | Sunrisers Hyderabad | Royal Challengers Bangalore |      1 |      6 | S Dhawan  | DA Warner     | TS Mills    |               0 |           0 |          0 |             0 |             0 |              0 |              0 |            0 |            0 |                nan |              nan |       nan |\n",
            "|  6 |          1 |        1 | Sunrisers Hyderabad | Royal Challengers Bangalore |      1 |      7 | S Dhawan  | DA Warner     | TS Mills    |               0 |           0 |          0 |             1 |             0 |              0 |              0 |            1 |            1 |                nan |              nan |       nan |\n",
            "|  7 |          1 |        1 | Sunrisers Hyderabad | Royal Challengers Bangalore |      2 |      1 | S Dhawan  | DA Warner     | A Choudhary |               0 |           0 |          0 |             0 |             0 |              0 |              1 |            0 |            1 |                nan |              nan |       nan |\n",
            "|  8 |          1 |        1 | Sunrisers Hyderabad | Royal Challengers Bangalore |      2 |      2 | DA Warner | S Dhawan      | A Choudhary |               0 |           0 |          0 |             0 |             0 |              0 |              4 |            0 |            4 |                nan |              nan |       nan |\n",
            "|  9 |          1 |        1 | Sunrisers Hyderabad | Royal Challengers Bangalore |      2 |      3 | DA Warner | S Dhawan      | A Choudhary |               0 |           0 |          0 |             0 |             1 |              0 |              0 |            1 |            1 |                nan |              nan |       nan |\n",
            "+----+------------+----------+---------------------+-----------------------------+--------+--------+-----------+---------------+-------------+-----------------+-------------+------------+---------------+---------------+----------------+----------------+--------------+--------------+--------------------+------------------+-----------+\n",
            "First 10 records of Dataset # 2 - Matches\n",
            "+----+------+----------+-----------+------------+-----------------------------+-----------------------------+-----------------------------+-----------------+----------+--------------+-----------------------------+---------------+------------------+-------------------+-------------------------------------------+----------------+---------------+-----------+\n",
            "|    |   id |   season | city      | date       | team1                       | team2                       | toss_winner                 | toss_decision   | result   |   dl_applied | winner                      |   win_by_runs |   win_by_wickets | player_of_match   | venue                                     | umpire1        | umpire2       |   umpire3 |\n",
            "|----+------+----------+-----------+------------+-----------------------------+-----------------------------+-----------------------------+-----------------+----------+--------------+-----------------------------+---------------+------------------+-------------------+-------------------------------------------+----------------+---------------+-----------|\n",
            "|  0 |    1 |     2017 | Hyderabad | 2017-04-05 | Sunrisers Hyderabad         | Royal Challengers Bangalore | Royal Challengers Bangalore | field           | normal   |            0 | Sunrisers Hyderabad         |            35 |                0 | Yuvraj Singh      | Rajiv Gandhi International Stadium, Uppal | AY Dandekar    | NJ Llong      |       nan |\n",
            "|  1 |    2 |     2017 | Pune      | 2017-04-06 | Mumbai Indians              | Rising Pune Supergiant      | Rising Pune Supergiant      | field           | normal   |            0 | Rising Pune Supergiant      |             0 |                7 | SPD Smith         | Maharashtra Cricket Association Stadium   | A Nand Kishore | S Ravi        |       nan |\n",
            "|  2 |    3 |     2017 | Rajkot    | 2017-04-07 | Gujarat Lions               | Kolkata Knight Riders       | Kolkata Knight Riders       | field           | normal   |            0 | Kolkata Knight Riders       |             0 |               10 | CA Lynn           | Saurashtra Cricket Association Stadium    | Nitin Menon    | CK Nandan     |       nan |\n",
            "|  3 |    4 |     2017 | Indore    | 2017-04-08 | Rising Pune Supergiant      | Kings XI Punjab             | Kings XI Punjab             | field           | normal   |            0 | Kings XI Punjab             |             0 |                6 | GJ Maxwell        | Holkar Cricket Stadium                    | AK Chaudhary   | C Shamshuddin |       nan |\n",
            "|  4 |    5 |     2017 | Bangalore | 2017-04-08 | Royal Challengers Bangalore | Delhi Daredevils            | Royal Challengers Bangalore | bat             | normal   |            0 | Royal Challengers Bangalore |            15 |                0 | KM Jadhav         | M Chinnaswamy Stadium                     | nan            | nan           |       nan |\n",
            "|  5 |    6 |     2017 | Hyderabad | 2017-04-09 | Gujarat Lions               | Sunrisers Hyderabad         | Sunrisers Hyderabad         | field           | normal   |            0 | Sunrisers Hyderabad         |             0 |                9 | Rashid Khan       | Rajiv Gandhi International Stadium, Uppal | A Deshmukh     | NJ Llong      |       nan |\n",
            "|  6 |    7 |     2017 | Mumbai    | 2017-04-09 | Kolkata Knight Riders       | Mumbai Indians              | Mumbai Indians              | field           | normal   |            0 | Mumbai Indians              |             0 |                4 | N Rana            | Wankhede Stadium                          | Nitin Menon    | CK Nandan     |       nan |\n",
            "|  7 |    8 |     2017 | Indore    | 2017-04-10 | Royal Challengers Bangalore | Kings XI Punjab             | Royal Challengers Bangalore | bat             | normal   |            0 | Kings XI Punjab             |             0 |                8 | AR Patel          | Holkar Cricket Stadium                    | AK Chaudhary   | C Shamshuddin |       nan |\n",
            "|  8 |    9 |     2017 | Pune      | 2017-04-11 | Delhi Daredevils            | Rising Pune Supergiant      | Rising Pune Supergiant      | field           | normal   |            0 | Delhi Daredevils            |            97 |                0 | SV Samson         | Maharashtra Cricket Association Stadium   | AY Dandekar    | S Ravi        |       nan |\n",
            "|  9 |   10 |     2017 | Mumbai    | 2017-04-12 | Sunrisers Hyderabad         | Mumbai Indians              | Mumbai Indians              | field           | normal   |            0 | Mumbai Indians              |             0 |                4 | JJ Bumrah         | Wankhede Stadium                          | Nitin Menon    | CK Nandan     |       nan |\n",
            "+----+------+----------+-----------+------------+-----------------------------+-----------------------------+-----------------------------+-----------------+----------+--------------+-----------------------------+---------------+------------------+-------------------+-------------------------------------------+----------------+---------------+-----------+\n"
          ]
        }
      ],
      "source": [
        "# Display First ten items from both the input files\n",
        "print (\"First 10 records of Dataset # 1 - Deliveries\")\n",
        "print(tabulate(deliveries_df.head(10), headers='keys', tablefmt='psql'))\n",
        "\n",
        "print (\"First 10 records of Dataset # 2 - Matches\")\n",
        "print(tabulate(matches_df.head(10), headers='keys', tablefmt='psql'))"
      ]
    },
    {
      "cell_type": "code",
      "execution_count": 8,
      "id": "f9e1c2e1",
      "metadata": {
        "id": "f9e1c2e1",
        "colab": {
          "base_uri": "https://localhost:8080/"
        },
        "outputId": "a6dd176a-d423-4e0f-889b-38fe8de7e7d0"
      },
      "outputs": [
        {
          "output_type": "stream",
          "name": "stdout",
          "text": [
            "145091 rows out of  150460 rows in dataset # 1 contain NULL Values\n",
            "615 rows out of  636 rows in dataset # 2 contain NULL Values\n",
            "Filling the Nan with 0\n",
            "After filling the Nan with 0\n",
            "0 rows out of  150460 rows in dataset # 1 - deliveries contain NULL Values\n",
            "0 rows out of  636 rows in dataset # 2 - matches contain NULL Values\n"
          ]
        }
      ],
      "source": [
        "# Check for NULL values and Replace Nan with 0 (For both files)\n",
        "\n",
        "print (deliveries_df[deliveries_df.isnull().any(axis=1)].shape[0] , \"rows out of \" ,deliveries_df.shape[0] , \"rows in dataset # 1 contain NULL Values\")\n",
        "print (matches_df[deliveries_df.isnull().any(axis=1)].shape[0] , \"rows out of \" ,matches_df.shape[0] , \"rows in dataset # 2 contain NULL Values\")\n",
        "\n",
        "\n",
        "print (\"Filling the Nan with 0\")\n",
        "deliveries_df = deliveries_df.fillna(0)\n",
        "matches_df = matches_df.fillna(0)\n",
        "\n",
        "print (\"After filling the Nan with 0\")\n",
        "print (deliveries_df[deliveries_df.isnull().any(axis=1)].shape[0] , \"rows out of \" ,deliveries_df.shape[0] , \"rows in dataset # 1 - deliveries contain NULL Values\")\n",
        "print (matches_df[matches_df.isnull().any(axis=1)].shape[0] , \"rows out of \" ,matches_df.shape[0] , \"rows in dataset # 2 - matches contain NULL Values\")\n"
      ]
    },
    {
      "cell_type": "code",
      "execution_count": 9,
      "id": "422d4aad",
      "metadata": {
        "id": "422d4aad"
      },
      "outputs": [],
      "source": [
        "#Display an overview - The participating teams and the unique venues used for matches, and the number of matches played "
      ]
    },
    {
      "cell_type": "code",
      "execution_count": 21,
      "id": "7868cff9",
      "metadata": {
        "id": "7868cff9",
        "colab": {
          "base_uri": "https://localhost:8080/"
        },
        "outputId": "e65ee0a0-151a-45e9-c1e8-c0ab81a80765"
      },
      "outputs": [
        {
          "output_type": "stream",
          "name": "stdout",
          "text": [
            "Total Matches Played:  636\n",
            "\n",
            "\n",
            "Venues for cricket matches are:\n",
            "['Hyderabad' 'Pune' 'Rajkot' 'Indore' 'Bangalore' 'Mumbai' 'Kolkata'\n",
            " 'Delhi' 'Chandigarh' 'Kanpur' 'Jaipur' 'Chennai' 'Cape Town'\n",
            " 'Port Elizabeth' 'Durban' 'Centurion' 'East London' 'Johannesburg'\n",
            " 'Kimberley' 'Bloemfontein' 'Ahmedabad' 'Cuttack' 'Nagpur' 'Dharamsala'\n",
            " 'Kochi' 'Visakhapatnam' 'Raipur' 'Ranchi' 'Abu Dhabi' 'Sharjah' 0]\n",
            "\n",
            "\n",
            " All teams that participated in all IPL conducted till 2020:\n",
            "Chennai Super Kings\n",
            "Deccan Chargers\n",
            "Delhi Daredevils\n",
            "Gujarat Lions\n",
            "Kings XI Punjab\n",
            "Kochi Tuskers Kerala\n",
            "Kolkata Knight Riders\n",
            "Mumbai Indians\n",
            "Pune Warriors\n",
            "Rajasthan Royals\n",
            "Rising Pune Supergiant\n",
            "Rising Pune Supergiants\n",
            "Royal Challengers Bangalore\n",
            "Sunrisers Hyderabad\n"
          ]
        }
      ],
      "source": [
        "print(\"Total Matches Played: \", matches_df.shape[0])\n",
        "\n",
        "print(\"\\n\\nVenues for cricket matches are:\")\n",
        "#print('\\n'.join(map(str, sorted(matches_df.city.unique()))))\n",
        "print(matches_df.city.unique())\n",
        "\n",
        "\n",
        "print(\"\\n\\n All teams that participated in all IPL conducted till 2020:\")\n",
        "print('\\n'.join(map(str, sorted(matches_df.team1.unique()))))\n"
      ]
    },
    {
      "cell_type": "code",
      "source": [
        "from pprint import pprint\n",
        "\n",
        "type(matches_df.team1.unique())\n",
        "\n"
      ],
      "metadata": {
        "colab": {
          "base_uri": "https://localhost:8080/"
        },
        "id": "BopZdY_XNho8",
        "outputId": "095727ee-bbc4-4059-d48d-4f61e86dbd0e"
      },
      "id": "BopZdY_XNho8",
      "execution_count": 18,
      "outputs": [
        {
          "output_type": "stream",
          "name": "stdout",
          "text": [
            "Chennai Super Kings\n",
            "Deccan Chargers\n",
            "Delhi Daredevils\n",
            "Gujarat Lions\n",
            "Kings XI Punjab\n",
            "Kochi Tuskers Kerala\n",
            "Kolkata Knight Riders\n",
            "Mumbai Indians\n",
            "Pune Warriors\n",
            "Rajasthan Royals\n",
            "Rising Pune Supergiant\n",
            "Rising Pune Supergiants\n",
            "Royal Challengers Bangalore\n",
            "Sunrisers Hyderabad\n"
          ]
        }
      ]
    },
    {
      "cell_type": "markdown",
      "id": "d244a6b1",
      "metadata": {
        "id": "d244a6b1"
      },
      "source": [
        "# Visualisation Questions - 2 X 5 = 10 Marks"
      ]
    },
    {
      "cell_type": "markdown",
      "id": "ca7120b0",
      "metadata": {
        "id": "ca7120b0"
      },
      "source": [
        "### Question 1\n",
        "<h4>Identify the top 10 batsmen of all time by considering how does these players score runs.  <br><br>\n",
        "    Write the python code in the below cell to create appropriate visual to perform the above task.\n",
        "    <h4>Answer in markdown cells below the visual <br><br>\n",
        "        1.Summarise your findings from the visual.<br>\n",
        "            2.The reason for selecting the chart type you did <br>\n",
        "                3.Mention the pre-attentive attributes used.(atleast 2)<br>\n",
        "                    4.Mention the gestalt principles used.(atleast 2)<br>"
      ]
    },
    {
      "cell_type": "code",
      "execution_count": 22,
      "id": "687e88f4",
      "metadata": {
        "id": "687e88f4"
      },
      "outputs": [],
      "source": [
        "players = deliveries_df.batsman.unique()\n",
        "\n",
        "# Creating a dataframe of batsman\n",
        "class Batsman():\n",
        "    batsman_df = pd.DataFrame(columns=['player_name','total_runs','outs','balls_played','average_runs','strike_rate'])\n",
        "    def __init__(self,players,deliveries_df):\n",
        "        self.players = players\n",
        "        self.df = deliveries_df.copy()\n",
        "        \n",
        "    def create_df(self):\n",
        "        for player in self.players:\n",
        "            run = int(self.df[self.df[\"batsman\"] == player].batsman_runs.sum())\n",
        "            balls = int((self.df[\"batsman\"] == player).sum())\n",
        "            #print(balls)\n",
        "            out = int((self.df[\"player_dismissed\"] == player).sum())\n",
        "            try:\n",
        "                avg_run = run/out # average runs = Total runs divided by total outs\n",
        "            except:\n",
        "                avg_run = 0\n",
        "            try:\n",
        "                strk_rate = (run * 100)/balls # strike rate = run scored per 100 balls\n",
        "            except:\n",
        "                strk_rate = 0\n",
        "            df2 = {'player_name':player,'total_runs': int(run),'outs':int(out),'balls_played': int(balls),'average_runs':avg_run,'strike_rate': strk_rate}\n",
        "            self.batsman_df = self.batsman_df.append(df2,ignore_index =True)\n",
        "        return self.batsman_df\n",
        "\n",
        " \n",
        "batsman_df = Batsman(players,deliveries_df).create_df()"
      ]
    },
    {
      "cell_type": "code",
      "source": [
        "batsman_df.info()"
      ],
      "metadata": {
        "colab": {
          "base_uri": "https://localhost:8080/"
        },
        "id": "XYTGU6FNlanq",
        "outputId": "b9462513-77f0-4ed0-9d24-35082496e866"
      },
      "id": "XYTGU6FNlanq",
      "execution_count": 23,
      "outputs": [
        {
          "output_type": "stream",
          "name": "stdout",
          "text": [
            "<class 'pandas.core.frame.DataFrame'>\n",
            "RangeIndex: 461 entries, 0 to 460\n",
            "Data columns (total 6 columns):\n",
            " #   Column        Non-Null Count  Dtype  \n",
            "---  ------        --------------  -----  \n",
            " 0   player_name   461 non-null    object \n",
            " 1   total_runs    461 non-null    object \n",
            " 2   outs          461 non-null    object \n",
            " 3   balls_played  461 non-null    object \n",
            " 4   average_runs  461 non-null    float64\n",
            " 5   strike_rate   461 non-null    float64\n",
            "dtypes: float64(2), object(4)\n",
            "memory usage: 21.7+ KB\n"
          ]
        }
      ]
    },
    {
      "cell_type": "code",
      "source": [
        "# Converting the total_runs,outs,balls_played to integer for any future calculations\n",
        "batsman_df = batsman_df.astype({'total_runs':int,'outs':int,\"balls_played\":int})"
      ],
      "metadata": {
        "id": "aPUQRMp0l1RK"
      },
      "id": "aPUQRMp0l1RK",
      "execution_count": 26,
      "outputs": []
    },
    {
      "cell_type": "code",
      "source": [
        "batsman_df.info()"
      ],
      "metadata": {
        "colab": {
          "base_uri": "https://localhost:8080/"
        },
        "id": "jeuBuJm6mEQy",
        "outputId": "b884ccfe-647c-441d-bfb1-20cc6176e2e4"
      },
      "id": "jeuBuJm6mEQy",
      "execution_count": 25,
      "outputs": [
        {
          "output_type": "stream",
          "name": "stdout",
          "text": [
            "<class 'pandas.core.frame.DataFrame'>\n",
            "RangeIndex: 461 entries, 0 to 460\n",
            "Data columns (total 6 columns):\n",
            " #   Column        Non-Null Count  Dtype  \n",
            "---  ------        --------------  -----  \n",
            " 0   player_name   461 non-null    object \n",
            " 1   total_runs    461 non-null    int64  \n",
            " 2   outs          461 non-null    int64  \n",
            " 3   balls_played  461 non-null    int64  \n",
            " 4   average_runs  461 non-null    float64\n",
            " 5   strike_rate   461 non-null    float64\n",
            "dtypes: float64(2), int64(3), object(1)\n",
            "memory usage: 21.7+ KB\n"
          ]
        }
      ]
    },
    {
      "cell_type": "code",
      "source": [
        "# Saving the dataframe into a .csv file for future reference\n",
        "batsman_df.to_csv(\"batting.csv\")"
      ],
      "metadata": {
        "id": "nboMQk1ymQIa"
      },
      "id": "nboMQk1ymQIa",
      "execution_count": null,
      "outputs": []
    },
    {
      "cell_type": "markdown",
      "id": "e03789d1",
      "metadata": {
        "id": "e03789d1"
      },
      "source": [
        "### Question 2\n",
        "<h4>The general notion in cricket is, Win the toss to win the match . To verify the general notion, perform a match winning analysis based on the toss winners.<br>\n",
        "    \n",
        "Write the python code in the below cell to create the appropriate visual to perform the above task .\n",
        "<h4>Answer in markdown cells below the visual <br><br>\n",
        "    1.Summarise your findings from the visual.<br>\n",
        "    2.The reason for selecting the chart type you did <br>\n",
        "    3.Mention the pre-attentive attributes used.(atleast 2)<br>\n",
        "    4.Mention the gestalt principles used.(atleast 2)<br>"
      ]
    },
    {
      "cell_type": "code",
      "execution_count": null,
      "id": "a56d8053",
      "metadata": {
        "id": "a56d8053"
      },
      "outputs": [],
      "source": [
        ""
      ]
    },
    {
      "cell_type": "markdown",
      "id": "044211b4",
      "metadata": {
        "id": "044211b4"
      },
      "source": [
        "### Question 3\n",
        "<h4>Are T20 formats batsmen friendly? To identify this, Do an analysis to find out the average runs scored per match across the seasons. <br>\n",
        "\n",
        "Write the python code in the below cell to create the appropriate visual to perform the above task .\n",
        "<h4>Answer in markdown cells below the visual <br><br>\n",
        "    1.Summarise your findings from the visual.<br>\n",
        "    2.The reason for selecting the chart type you did <br>\n",
        "    3.Mention the pre-attentive attributes used.(atleast 2)<br>\n",
        "    4.Mention the gestalt principles used.(atleast 2)<br>"
      ]
    },
    {
      "cell_type": "code",
      "execution_count": null,
      "id": "1d654969",
      "metadata": {
        "id": "1d654969"
      },
      "outputs": [],
      "source": [
        ""
      ]
    },
    {
      "cell_type": "markdown",
      "id": "624a5a31",
      "metadata": {
        "id": "624a5a31"
      },
      "source": [
        "### Question 4\n",
        "<h4>Create an interactive visual to identify the most player-of-the-matches award. <br>\n",
        "\n",
        "Write the python code in the below cell to create the appropriate visual to perform the above task .\n",
        "\n",
        "Answer in markdown cells below the visual\n",
        "\n",
        "1.Summarise your findings from the visual.\n",
        "2.The reason for selecting the chart type you did\n",
        "3.Mention the pre-attentive attributes used.(atleast 2)\n",
        "4.Mention the gestalt principles used.(atleast 2"
      ]
    },
    {
      "cell_type": "code",
      "execution_count": null,
      "id": "451c1ffe",
      "metadata": {
        "id": "451c1ffe"
      },
      "outputs": [],
      "source": [
        ""
      ]
    },
    {
      "cell_type": "markdown",
      "id": "7c50e716",
      "metadata": {
        "id": "7c50e716"
      },
      "source": [
        "### Question 5\n",
        "<h4>Prepare a tabular visual to identify teams scoring more than 225 runs.<br>\n",
        "\n",
        "Write the python code in the below cell to create the appropriate visual to perform the above task .\n",
        "<h4>Answer in markdown cells below the visual <br><br>\n",
        "    1.Summarise your findings from the visual.<br>\n",
        "    2.The reason for selecting the chart type you did <br>\n",
        "    3.Mention the pre-attentive attributes used.(atleast 2)<br>\n",
        "    4.Mention the gestalt principles used.(atleast 2)<br>  "
      ]
    },
    {
      "cell_type": "code",
      "execution_count": null,
      "id": "2f62a3f3",
      "metadata": {
        "id": "2f62a3f3"
      },
      "outputs": [],
      "source": [
        ""
      ]
    },
    {
      "cell_type": "markdown",
      "id": "63fe77e9",
      "metadata": {
        "id": "63fe77e9"
      },
      "source": [
        "# Group's choice-2 Marks\n",
        " \n",
        "#### Frame 1 (more) question which will help in the EDA(Exploratory Data Analysis) of the given data set and answer the same using the best visual.\n",
        " \n",
        " 1. Write the question in a markdown cell\n",
        " 2. Below the question,in a coding cell,write the python code to create the visual to answer the question  \n",
        "\n",
        "<h4> Answer in markdown cells below the visual <br><br>\n",
        "   1.Summarise your findings from the visual.<br>\n",
        "   2.The reason for selecting the chart type you did <br>\n",
        "   3.Mention the pre-attentive attributes used.(atleast 2)<br>\n",
        "   4.Mention the gestalt principles used.(atleast 2)<br>"
      ]
    },
    {
      "cell_type": "code",
      "execution_count": null,
      "id": "6e48ff93",
      "metadata": {
        "id": "6e48ff93"
      },
      "outputs": [],
      "source": [
        ""
      ]
    },
    {
      "cell_type": "markdown",
      "id": "f1ef1fd9",
      "metadata": {
        "id": "f1ef1fd9"
      },
      "source": [
        "<h1><center> ************ END OF ASSIGNMENT ****************</center></h1>"
      ]
    }
  ],
  "metadata": {
    "colab": {
      "collapsed_sections": [],
      "name": "dvi-a2-ps10-wb.ipynb",
      "provenance": [],
      "include_colab_link": true
    },
    "kernelspec": {
      "display_name": "Python 3",
      "language": "python",
      "name": "python3"
    },
    "language_info": {
      "codemirror_mode": {
        "name": "ipython",
        "version": 3
      },
      "file_extension": ".py",
      "mimetype": "text/x-python",
      "name": "python",
      "nbconvert_exporter": "python",
      "pygments_lexer": "ipython3",
      "version": "3.7.3"
    }
  },
  "nbformat": 4,
  "nbformat_minor": 5
}